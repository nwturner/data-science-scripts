{
 "cells": [
  {
   "cell_type": "markdown",
   "metadata": {},
   "source": [
    "### This code can be used to find the minimum SSE using gradient descent for the cars data set where intercept and slope are both unknown. Use an initial guess for beta_0 of -20 and beta_1 of 1, an alpha (movement size) of 0.00002, and a tolerance of 0.000001."
   ]
  },
  {
   "cell_type": "code",
   "execution_count": 17,
   "metadata": {},
   "outputs": [],
   "source": [
    "import numpy as np\n",
    "import pandas as pd\n",
    "from math import sqrt"
   ]
  },
  {
   "cell_type": "code",
   "execution_count": 18,
   "metadata": {},
   "outputs": [],
   "source": [
    "cars_df = pd.read_csv('./cars.csv')\n",
    "\n",
    "X = list(cars_df.loc[:,'speed'])\n",
    "Y = list(cars_df.loc[:,'dist'])"
   ]
  },
  {
   "cell_type": "code",
   "execution_count": 19,
   "metadata": {},
   "outputs": [
    {
     "data": {
      "text/html": [
       "<div>\n",
       "<style scoped>\n",
       "    .dataframe tbody tr th:only-of-type {\n",
       "        vertical-align: middle;\n",
       "    }\n",
       "\n",
       "    .dataframe tbody tr th {\n",
       "        vertical-align: top;\n",
       "    }\n",
       "\n",
       "    .dataframe thead th {\n",
       "        text-align: right;\n",
       "    }\n",
       "</style>\n",
       "<table border=\"1\" class=\"dataframe\">\n",
       "  <thead>\n",
       "    <tr style=\"text-align: right;\">\n",
       "      <th></th>\n",
       "      <th>speed</th>\n",
       "      <th>dist</th>\n",
       "    </tr>\n",
       "  </thead>\n",
       "  <tbody>\n",
       "    <tr>\n",
       "      <th>0</th>\n",
       "      <td>4</td>\n",
       "      <td>2</td>\n",
       "    </tr>\n",
       "    <tr>\n",
       "      <th>1</th>\n",
       "      <td>4</td>\n",
       "      <td>10</td>\n",
       "    </tr>\n",
       "    <tr>\n",
       "      <th>2</th>\n",
       "      <td>7</td>\n",
       "      <td>4</td>\n",
       "    </tr>\n",
       "    <tr>\n",
       "      <th>3</th>\n",
       "      <td>7</td>\n",
       "      <td>22</td>\n",
       "    </tr>\n",
       "    <tr>\n",
       "      <th>4</th>\n",
       "      <td>8</td>\n",
       "      <td>16</td>\n",
       "    </tr>\n",
       "  </tbody>\n",
       "</table>\n",
       "</div>"
      ],
      "text/plain": [
       "   speed  dist\n",
       "0      4     2\n",
       "1      4    10\n",
       "2      7     4\n",
       "3      7    22\n",
       "4      8    16"
      ]
     },
     "execution_count": 19,
     "metadata": {},
     "output_type": "execute_result"
    }
   ],
   "source": [
    "cars_df.head()"
   ]
  },
  {
   "cell_type": "code",
   "execution_count": 20,
   "metadata": {},
   "outputs": [],
   "source": [
    "def SSE(X,Y,beta0,beta1):\n",
    "    sum_ = 0\n",
    "    for i in range(0,len(X)):\n",
    "        sq_err = (Y[i] - beta0 - beta1*X[i])**2\n",
    "        sum_ += sq_err\n",
    "    return sum_"
   ]
  },
  {
   "cell_type": "code",
   "execution_count": 29,
   "metadata": {},
   "outputs": [
    {
     "name": "stdout",
     "output_type": "stream",
     "text": [
      "Wall time: 1.11 s\n",
      "('b0', 'b1', 'Sum of squared errors')\n",
      "(-17.583929102138274, 3.9326902677266826, 11353.521172112418)\n"
     ]
    }
   ],
   "source": [
    "def db1(x_i,y_i,beta0,beta1):\n",
    "    sum_ = 0\n",
    "    for i in range(0,len(X)):\n",
    "        sq_err = (Y[i] - beta0 - beta1*X[i])*(-2*X[i])\n",
    "        sum_ += sq_err\n",
    "    return sum_\n",
    "\n",
    "def db0(x_i,y_i,beta0,beta1):\n",
    "    sum_ = 0\n",
    "    for i in range(0,len(X)):\n",
    "        sq_err = (-2)*(Y[i] - beta0 - beta1*X[i])\n",
    "        sum_ += sq_err\n",
    "    return sum_\n",
    "\n",
    "def multivar_minimum_SSE(b0,b1,X,Y,alpha,tol):\n",
    "    b1_curr,b0_curr = b1,b0\n",
    "    b1_prev,b0_prev = 0,0\n",
    "    while ( sqrt( (b1_curr-b1_prev)**2 + (b0_curr-b0_prev)**2 ) > tol ):\n",
    "        b1_prev = b1_curr\n",
    "        b0_prev = b0_curr\n",
    "        b1_curr = b1_prev - alpha*db1(X,Y,b0_prev,b1_prev)\n",
    "        b0_curr = b0_prev - alpha*db0(X,Y,b0_prev,b1_prev)\n",
    "    return b0_curr,b1_curr,SSE(X,Y,b0_curr,b1_curr)\n",
    "\n",
    "b0 = -20\n",
    "b1 = 1\n",
    "alpha = 0.00002\n",
    "tol = 0.000001\n",
    "\n",
    "\n",
    "%time result=multivar_minimum_SSE(b0,b1,X,Y,alpha,tol)\n",
    "\n",
    "print((\"b0\",\"b1=\",\"Sum of squared errors=\"))\n",
    "print(result)"
   ]
  }
 ],
 "metadata": {
  "kernelspec": {
   "display_name": "Python 3",
   "language": "python",
   "name": "python3"
  },
  "language_info": {
   "codemirror_mode": {
    "name": "ipython",
    "version": 3
   },
   "file_extension": ".py",
   "mimetype": "text/x-python",
   "name": "python",
   "nbconvert_exporter": "python",
   "pygments_lexer": "ipython3",
   "version": "3.7.3"
  }
 },
 "nbformat": 4,
 "nbformat_minor": 2
}
