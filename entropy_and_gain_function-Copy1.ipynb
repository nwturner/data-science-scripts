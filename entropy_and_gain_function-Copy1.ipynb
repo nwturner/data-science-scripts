{
 "cells": [
  {
   "cell_type": "markdown",
   "metadata": {},
   "source": [
    "### Entropy and Gain Function"
   ]
  },
  {
   "cell_type": "code",
   "execution_count": 1,
   "metadata": {},
   "outputs": [],
   "source": [
    "import pandas as pd\n",
    "import numpy as np\n",
    "import math"
   ]
  },
  {
   "cell_type": "code",
   "execution_count": null,
   "metadata": {},
   "outputs": [],
   "source": [
    "path = input(\"Enter csv path location: \")"
   ]
  },
  {
   "cell_type": "code",
   "execution_count": 5,
   "metadata": {},
   "outputs": [],
   "source": [
    "df = pd.read_csv(path)"
   ]
  },
  {
   "cell_type": "code",
   "execution_count": 6,
   "metadata": {},
   "outputs": [],
   "source": [
    "# df['Department'] = [\"Sales\",\"Sales\",\"Sales\",\"Systems\",\"Systems\",\"Systems\",\n",
    "#                  \"Systems\",\"Marketing\",\"Marketing\",\"Marketing\",\"Marketing\",\n",
    "#                  \"Marketing\"]\n",
    "# df['Age'] = [\"31-40\",\"21-30\",\"31-40\",\"21-30\",\"31-40\",\"21-30\",\"41-50\",\"31-40\",\n",
    "#            \"31-40\",\"41-50\",\"21-30\",\"21-30\"]\n",
    "# df['Salary'] = [\"Medium\",\"Low\",\"Low\",\"Medium\",\"High\",\"Medium\",\"High\",\"Medium\",\n",
    "#               \"Medium\",\"High\",\"Low\",\"Medium\"]\n",
    "# df['Status'] = [\"Senior\",\"Junior\",\"Junior\",\"Junior\",\"Senior\",\"Junior\",\n",
    "#               \"Senior\",\"Senior\",\"Junior\",\"Senior\",\"Junior\",\"Junior\"]"
   ]
  },
  {
   "cell_type": "code",
   "execution_count": 7,
   "metadata": {},
   "outputs": [
    {
     "data": {
      "text/html": [
       "<div>\n",
       "<style scoped>\n",
       "    .dataframe tbody tr th:only-of-type {\n",
       "        vertical-align: middle;\n",
       "    }\n",
       "\n",
       "    .dataframe tbody tr th {\n",
       "        vertical-align: top;\n",
       "    }\n",
       "\n",
       "    .dataframe thead th {\n",
       "        text-align: right;\n",
       "    }\n",
       "</style>\n",
       "<table border=\"1\" class=\"dataframe\">\n",
       "  <thead>\n",
       "    <tr style=\"text-align: right;\">\n",
       "      <th></th>\n",
       "      <th>Department</th>\n",
       "      <th>Age</th>\n",
       "      <th>Salary</th>\n",
       "      <th>Status</th>\n",
       "    </tr>\n",
       "  </thead>\n",
       "  <tbody>\n",
       "    <tr>\n",
       "      <th>0</th>\n",
       "      <td>Sales</td>\n",
       "      <td>31-40</td>\n",
       "      <td>Medium</td>\n",
       "      <td>Senior</td>\n",
       "    </tr>\n",
       "    <tr>\n",
       "      <th>1</th>\n",
       "      <td>Sales</td>\n",
       "      <td>21-30</td>\n",
       "      <td>Low</td>\n",
       "      <td>Junior</td>\n",
       "    </tr>\n",
       "    <tr>\n",
       "      <th>2</th>\n",
       "      <td>Sales</td>\n",
       "      <td>31-40</td>\n",
       "      <td>Low</td>\n",
       "      <td>Junior</td>\n",
       "    </tr>\n",
       "    <tr>\n",
       "      <th>3</th>\n",
       "      <td>Systems</td>\n",
       "      <td>21-30</td>\n",
       "      <td>Medium</td>\n",
       "      <td>Junior</td>\n",
       "    </tr>\n",
       "    <tr>\n",
       "      <th>4</th>\n",
       "      <td>Systems</td>\n",
       "      <td>31-40</td>\n",
       "      <td>High</td>\n",
       "      <td>Senior</td>\n",
       "    </tr>\n",
       "    <tr>\n",
       "      <th>5</th>\n",
       "      <td>Systems</td>\n",
       "      <td>21-30</td>\n",
       "      <td>Medium</td>\n",
       "      <td>Junior</td>\n",
       "    </tr>\n",
       "    <tr>\n",
       "      <th>6</th>\n",
       "      <td>Systems</td>\n",
       "      <td>41-50</td>\n",
       "      <td>High</td>\n",
       "      <td>Senior</td>\n",
       "    </tr>\n",
       "    <tr>\n",
       "      <th>7</th>\n",
       "      <td>Marketing</td>\n",
       "      <td>31-40</td>\n",
       "      <td>Medium</td>\n",
       "      <td>Senior</td>\n",
       "    </tr>\n",
       "    <tr>\n",
       "      <th>8</th>\n",
       "      <td>Marketing</td>\n",
       "      <td>31-40</td>\n",
       "      <td>Medium</td>\n",
       "      <td>Junior</td>\n",
       "    </tr>\n",
       "    <tr>\n",
       "      <th>9</th>\n",
       "      <td>Marketing</td>\n",
       "      <td>41-50</td>\n",
       "      <td>High</td>\n",
       "      <td>Senior</td>\n",
       "    </tr>\n",
       "    <tr>\n",
       "      <th>10</th>\n",
       "      <td>Marketing</td>\n",
       "      <td>21-30</td>\n",
       "      <td>Low</td>\n",
       "      <td>Junior</td>\n",
       "    </tr>\n",
       "    <tr>\n",
       "      <th>11</th>\n",
       "      <td>Marketing</td>\n",
       "      <td>21-30</td>\n",
       "      <td>Medium</td>\n",
       "      <td>Junior</td>\n",
       "    </tr>\n",
       "  </tbody>\n",
       "</table>\n",
       "</div>"
      ],
      "text/plain": [
       "   Department    Age  Salary  Status\n",
       "0       Sales  31-40  Medium  Senior\n",
       "1       Sales  21-30     Low  Junior\n",
       "2       Sales  31-40     Low  Junior\n",
       "3     Systems  21-30  Medium  Junior\n",
       "4     Systems  31-40    High  Senior\n",
       "5     Systems  21-30  Medium  Junior\n",
       "6     Systems  41-50    High  Senior\n",
       "7   Marketing  31-40  Medium  Senior\n",
       "8   Marketing  31-40  Medium  Junior\n",
       "9   Marketing  41-50    High  Senior\n",
       "10  Marketing  21-30     Low  Junior\n",
       "11  Marketing  21-30  Medium  Junior"
      ]
     },
     "execution_count": 7,
     "metadata": {},
     "output_type": "execute_result"
    }
   ],
   "source": [
    "# df"
   ]
  },
  {
   "cell_type": "code",
   "execution_count": 8,
   "metadata": {},
   "outputs": [],
   "source": [
    "def entropy_gain(df):\n",
    "    \n",
    "    weighted_entropy = [] # List of weighted column entropies\n",
    "    n = len(df.iloc[:,0]) # Total number of rows\n",
    "    target = np.unique(df.iloc[:,-1]) # List of unique classes\n",
    "    \n",
    "    # Entropy of parent node\n",
    "    parent_entropy = df[df.columns[-1]].value_counts()\n",
    "    P = sum([-x/sum(parent_entropy)*math.log(x/sum(parent_entropy),(2)) for x in parent_entropy if x!=0])\n",
    "    \n",
    "    # For each column\n",
    "    for col in df.columns[0:len(df.columns)-1]:\n",
    "        col_entropy = []\n",
    "        nodes = np.unique(df[col])\n",
    "        \n",
    "        # Split into nodes and calculate weighted entropy of the nodes\n",
    "        for node in nodes:\n",
    "            num_rows=[]\n",
    "            # For each class\n",
    "            for targ in target:\n",
    "                df_new = df[df[col]==node] # Grabbing rows that include the current node\n",
    "                num_rows.append(len(df_new[df_new[df.columns[-1]]==targ])) # Appending number of rows in target clas\n",
    "            \n",
    "            # Calculate entropy for current node\n",
    "            entropy = [-x/sum(num_rows)*math.log(x/sum(num_rows),(2)) for x in num_rows if x!=0]\n",
    "            \n",
    "            col_entropy.append(sum(entropy)*sum(num_rows)/n) # Weighted entropy for current node\n",
    "        weighted_entropy.append((sum(col_entropy),col)) # Total weighted entropy for current column, column name\n",
    "        \n",
    "    # Calculate gain for each column\n",
    "    gain = []\n",
    "    for i in range(len(weighted_entropy)):\n",
    "        gain.append((P-weighted_entropy[i][0],weighted_entropy[i][1]))\n",
    "        \n",
    "    print(\"Root node attribute:\\t\",sorted(gain)[-1][1])\n",
    "    \n",
    "    return (\"Entropy:\",weighted_entropy,\"Gain:\",gain)"
   ]
  },
  {
   "cell_type": "code",
   "execution_count": 9,
   "metadata": {},
   "outputs": [
    {
     "name": "stdout",
     "output_type": "stream",
     "text": [
      "Root node attribute:\t Age\n"
     ]
    },
    {
     "data": {
      "text/plain": [
       "('Entropy:',\n",
       " [(0.9674700395364009, 'Department'),\n",
       "  (0.4045627476894453, 'Age'),\n",
       "  (0.4591479170272448, 'Salary')],\n",
       " 'Gain:',\n",
       " [(0.012398717114751823, 'Department'),\n",
       "  (0.5753060089617075, 'Age'),\n",
       "  (0.5207208396239079, 'Salary')])"
      ]
     },
     "execution_count": 9,
     "metadata": {},
     "output_type": "execute_result"
    }
   ],
   "source": [
    "entropy_gain(df)"
   ]
  }
 ],
 "metadata": {
  "kernelspec": {
   "display_name": "Python 3",
   "language": "python",
   "name": "python3"
  },
  "language_info": {
   "codemirror_mode": {
    "name": "ipython",
    "version": 3
   },
   "file_extension": ".py",
   "mimetype": "text/x-python",
   "name": "python",
   "nbconvert_exporter": "python",
   "pygments_lexer": "ipython3",
   "version": "3.7.3"
  }
 },
 "nbformat": 4,
 "nbformat_minor": 2
}
